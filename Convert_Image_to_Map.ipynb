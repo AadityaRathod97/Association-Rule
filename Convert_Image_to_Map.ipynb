{
  "nbformat": 4,
  "nbformat_minor": 0,
  "metadata": {
    "colab": {
      "name": "Convert Image to Map.ipynb",
      "provenance": [],
      "collapsed_sections": [],
      "authorship_tag": "ABX9TyNdT1ZajIMwS6QC/+EvdICH",
      "include_colab_link": true
    },
    "kernelspec": {
      "name": "python3",
      "display_name": "Python 3"
    }
  },
  "cells": [
    {
      "cell_type": "markdown",
      "metadata": {
        "id": "view-in-github",
        "colab_type": "text"
      },
      "source": [
        "<a href=\"https://colab.research.google.com/github/AadityaRathod97/Association-Rule/blob/master/Convert_Image_to_Map.ipynb\" target=\"_parent\"><img src=\"https://colab.research.google.com/assets/colab-badge.svg\" alt=\"Open In Colab\"/></a>"
      ]
    },
    {
      "cell_type": "code",
      "metadata": {
        "colab": {
          "base_uri": "https://localhost:8080/"
        },
        "id": "-d4w1I5SszPL",
        "outputId": "528e81c0-def3-48c6-db3e-cf889a73c893"
      },
      "source": [
        "import math\r\n",
        "\r\n",
        "\r\n",
        "long1,lat1 = [float(x) for x in input(\"Enter GPS Coordinates Point 1\\n\").split(',')] \r\n",
        "print(\"\\nThe value of long1 is {} and lat1 is {}\".format(long1,lat1)) \r\n",
        "\r\n",
        "long2,lat2 = [float(x) for x in input(\"Enter GPS Coordinates Point 2\\n\").split(',')] \r\n",
        "print(\"\\nThe value of long2 is {} and lat2 is {}\".format(long2,lat2)) \r\n",
        "\r\n",
        "px1,py1 = [float(x) for x in input(\"Enter Pixel Coordinates Point 1\\n\").split(',')] \r\n",
        "print(\"\\nThe value of px1 is {} and py1 is {}\".format(px1,py1))\r\n",
        "\r\n",
        "px2,py2 = [float(x) for x in input(\"Enter Pixel Coordinates Point 2\\n\").split(',')] \r\n",
        "print(\"\\nThe value of px2 is {} and py2 is {}\".format(px2,py2))\r\n",
        "      \r\n",
        "tpx,tpy = [float(x) for x in input(\"Enter image size\\n\").split(',')] \r\n",
        "print(\"\\nThe value of tpx is {} and tpy is {}\".format(tpx,tpy))\r\n",
        "\r\n",
        "\r\n"
      ],
      "execution_count": 1,
      "outputs": [
        {
          "output_type": "stream",
          "text": [
            "Enter GPS Coordinates Point 1\n",
            "73.125582,19.066397\n",
            "\n",
            "The value of long1 is 73.125582 and lat1 is 19.066397\n",
            "Enter GPS Coordinates Point 2\n",
            "73.122814,19.066226\n",
            "\n",
            "The value of long2 is 73.122814 and lat2 is 19.066226\n",
            "Enter Pixel Coordinates Point 1\n",
            "1386,1746\n",
            "\n",
            "The value of px1 is 1386.0 and py1 is 1746.0\n",
            "Enter Pixel Coordinates Point 2\n",
            "131,1151\n",
            "\n",
            "The value of px2 is 131.0 and py2 is 1151.0\n",
            "Enter image size\n",
            "2770,2072\n",
            "\n",
            "The value of tpx is 2770.0 and tpy is 2072.0\n"
          ],
          "name": "stdout"
        }
      ]
    },
    {
      "cell_type": "code",
      "metadata": {
        "colab": {
          "base_uri": "https://localhost:8080/"
        },
        "id": "-2M0wvL3s4ZS",
        "outputId": "eb889119-0ace-4bb6-daa6-783655558777"
      },
      "source": [
        "import math\r\n",
        "m1 = ((lat2-lat1)/(long2-long1))\r\n",
        "m2 = ((py2-py1)/(px2-px1))\r\n",
        "theta = math.degrees(math.atan(m2)-math.atan(m1))\r\n",
        "print (\"Angle is:\", theta)\r\n",
        "if theta < 0:\r\n",
        "    print(\"CW\")\r\n",
        "else:\r\n",
        "    print(\"CCW\")"
      ],
      "execution_count": 2,
      "outputs": [
        {
          "output_type": "stream",
          "text": [
            "Angle is: 21.830702856711774\n",
            "CCW\n"
          ],
          "name": "stdout"
        }
      ]
    },
    {
      "cell_type": "code",
      "metadata": {
        "colab": {
          "base_uri": "https://localhost:8080/"
        },
        "id": "-gu6fS-8tKsl",
        "outputId": "a76e3673-d58f-421e-eb92-cbc85d026aa6"
      },
      "source": [
        "ntpx,ntpy = [float(x) for x in input(\"Enter Rotated image size\\n\").split(',')]\r\n",
        "print(\"\\nThe value of new tpx is {} and new tpy is {}\".format(ntpx,ntpy))\r\n",
        "\r\n",
        "npx1,npy1 = [float(x) for x in input(\"Enter New Pixel Coordinates Point 1\\n\").split(',')]\r\n",
        "print(\"\\nThe value of new px1 is {} and new py1 is {}\".format(npx1,npy1))\r\n",
        "\r\n",
        "npx2,npy2 = [float(x) for x in input(\"Enter New Pixel Coordinates Point \").split(',')]\r\n",
        "print(\"\\nThe value of  new px2 is {} and new py2 is {}\".format(npx2,npy2))"
      ],
      "execution_count": 3,
      "outputs": [
        {
          "output_type": "stream",
          "text": [
            "Enter Rotated image size\n",
            "3061,3391\n",
            "\n",
            "The value of new tpx is 3061.0 and new tpy is 3391.0\n",
            "Enter New Pixel Coordinates Point 1\n",
            "2171,1999\n",
            "\n",
            "The value of new px1 is 2171.0 and new py1 is 1999.0\n",
            "Enter New Pixel Coordinates Point 1094,2876\n",
            "\n",
            "The value of  new px2 is 1094.0 and new py2 is 2876.0\n"
          ],
          "name": "stdout"
        }
      ]
    },
    {
      "cell_type": "code",
      "metadata": {
        "colab": {
          "base_uri": "https://localhost:8080/"
        },
        "id": "AERhnWYqtM7g",
        "outputId": "161cf946-d814-4baa-a229-a4a043673398"
      },
      "source": [
        "npy1=ntpy-npy1\r\n",
        "npy2=ntpy-npy2\r\n",
        "dist_px = float(math.sqrt((npy2-npy1)**2+(npx2-npx1)**2))\r\n",
        "dist_gps = float(math.sqrt((lat2-lat1)**2+(long2-long1)**2))\r\n",
        "r= dist_px/dist_gps\r\n",
        "print(r)"
      ],
      "execution_count": 4,
      "outputs": [
        {
          "output_type": "stream",
          "text": [
            "500817.39153062965\n"
          ],
          "name": "stdout"
        }
      ]
    },
    {
      "cell_type": "code",
      "metadata": {
        "colab": {
          "base_uri": "https://localhost:8080/"
        },
        "id": "LPiycd1htVjK",
        "outputId": "fb97f9b9-c8d7-4036-d14d-7469d37d24bf"
      },
      "source": [
        "from sympy import symbols, Eq, solve \r\n",
        "  \r\n",
        "# defining symbols used in equations \r\n",
        "# or unknown variables \r\n",
        "\r\n",
        "blx, bly= symbols('blx,bly') \r\n",
        "  \r\n",
        "# defining equations \r\n",
        "eq1 = Eq((lat1-bly)/(long1-blx), npy1/npx1) \r\n",
        "print(\"Equation 1:\") \r\n",
        "print(eq1) \r\n",
        "  \r\n",
        "eq2 = Eq((lat2-bly)/(long2-blx), npy2/npx2) \r\n",
        "print(\"Equation 2\") \r\n",
        "print(eq2) \r\n",
        "\r\n",
        "print(\"Values of 3 unknown variable are as follows:\") \r\n",
        "value =(solve((eq1, eq2), (blx, bly))) \r\n",
        "print(str(value))\r\n",
        "value = str(value.values()) \r\n",
        "#print (value)\r\n",
        "new =(value[13:-2])\r\n",
        "#print(str(new))\r\n",
        "spl = new.split(',')\r\n",
        "#print(spl)\r\n",
        "blx = float(spl[0])\r\n",
        "bly = float(spl[1])\r\n",
        "print(\"BLX : \",blx)\r\n",
        "print(\"BLY : \",bly)\r\n"
      ],
      "execution_count": 5,
      "outputs": [
        {
          "output_type": "stream",
          "text": [
            "Equation 1:\n",
            "Eq((19.066397 - bly)/(73.125582 - blx), 0.641179180101336)\n",
            "Equation 2\n",
            "Eq((19.066226 - bly)/(73.122814 - blx), 0.470749542961609)\n",
            "Values of 3 unknown variable are as follows:\n",
            "{blx: 73.1322242410674, bly: 19.0706558666817}\n",
            "BLX :  73.1322242410674\n",
            "BLY :  19.0706558666817\n"
          ],
          "name": "stdout"
        }
      ]
    },
    {
      "cell_type": "code",
      "metadata": {
        "colab": {
          "base_uri": "https://localhost:8080/"
        },
        "id": "btzEoYW7tYk6",
        "outputId": "cd7f87f4-3a87-4e6c-b889-06f2e4c60551"
      },
      "source": [
        "#Top Left corner\r\n",
        "tly = (bly+(ntpx/r))\r\n",
        "tlx = (blx)\r\n",
        "print(\"Top Left Corner     X    = \" +str(tlx)+ \"   Top Left Corner    Y   = \" +str(tly))\r\n",
        "print('\\n')\r\n",
        "#Top Right corner\r\n",
        "TRx = tlx+(ntpy/r)\r\n",
        "TRy = tly\r\n",
        "print(\"Top Right Corner    X    = \" +str(TRx)+ \"  Top Right Corner    Y   = \" +str(TRy))\r\n",
        "print('\\n')\r\n",
        "#Bottom Right Corner\r\n",
        "brx = blx+(ntpy/r)\r\n",
        "bry = bly\r\n",
        "print(\"Bottom Right Corner X    = \" +str(brx)+ \"  Bottom Right Corner Y   = \" +str(bry))\r\n",
        "print('\\n')"
      ],
      "execution_count": 6,
      "outputs": [
        {
          "output_type": "stream",
          "text": [
            "Top Left Corner     X    = 73.1322242410674   Top Left Corner    Y   = 19.07676787487424\n",
            "\n",
            "\n",
            "Top Right Corner    X    = 73.1389951720641  Top Right Corner    Y   = 19.07676787487424\n",
            "\n",
            "\n",
            "Bottom Right Corner X    = 73.1389951720641  Bottom Right Corner Y   = 19.0706558666817\n",
            "\n",
            "\n"
          ],
          "name": "stdout"
        }
      ]
    },
    {
      "cell_type": "code",
      "metadata": {
        "id": "6jMAZRs2tbCu"
      },
      "source": [
        ""
      ],
      "execution_count": null,
      "outputs": []
    }
  ]
}